{
 "cells": [
  {
   "cell_type": "markdown",
   "metadata": {},
   "source": [
    "# Logistic Regression with a Neural Network mindset\n",
    "\n",
    "简单的神经网络（1 hidden layer，1 hidden unit， sigmoid activation）\n",
    "\n",
    "1. 准备数据（h5py）\n",
    "2. 构建神经网络模型，FP/BP\n",
    "3. 训练、预测\n",
    "4. 调参，学习曲线\n",
    "5. 其他"
   ]
  },
  {
   "cell_type": "markdown",
   "metadata": {},
   "source": [
    "## 1 准备数据"
   ]
  },
  {
   "cell_type": "code",
   "execution_count": 1,
   "metadata": {
    "collapsed": true
   },
   "outputs": [],
   "source": [
    "import numpy as np\n",
    "import matplotlib.pyplot as plt\n",
    "import h5py\n",
    "import scipy\n",
    "from PIL import Image\n",
    "from scipy import ndimage\n",
    "\n",
    "%matplotlib inline"
   ]
  },
  {
   "cell_type": "code",
   "execution_count": 2,
   "metadata": {},
   "outputs": [
    {
     "name": "stdout",
     "output_type": "stream",
     "text": [
      "(209, 64, 64, 3)\n",
      "(209,)\n",
      "[b'non-cat' b'cat']\n"
     ]
    }
   ],
   "source": [
    "# load data\n",
    "\n",
    "train_dataset = h5py.File('datasets/train_catvnoncat.h5', \"r\")\n",
    "train_set_x_raw = np.array(train_dataset[\"train_set_x\"][:]) \n",
    "train_set_y_raw = np.array(train_dataset[\"train_set_y\"][:]) \n",
    "\n",
    "test_dataset = h5py.File('datasets/test_catvnoncat.h5', \"r\")\n",
    "test_set_x_raw = np.array(test_dataset[\"test_set_x\"][:]) # your test set features\n",
    "test_set_y_raw = np.array(test_dataset[\"test_set_y\"][:]) # your test set labels\n",
    "\n",
    "classes = np.array(test_dataset[\"list_classes\"][:]) # the list of classes\n",
    "\n",
    "print(train_set_x_raw.shape)\n",
    "print(train_set_y_raw.shape)\n",
    "print(classes)\n"
   ]
  },
  {
   "cell_type": "markdown",
   "metadata": {},
   "source": [
    "训练集有209个， 64x64 个像素， 3原色"
   ]
  },
  {
   "cell_type": "code",
   "execution_count": 3,
   "metadata": {},
   "outputs": [
    {
     "name": "stdout",
     "output_type": "stream",
     "text": [
      "y = 0, it's a 'non-cat' picture.\n"
     ]
    },
    {
     "data": {
      "image/png": "[encoded data removed]",
      "text/plain": [
       "<matplotlib.figure.Figure at 0x112435400>"
      ]
     },
     "metadata": {},
     "output_type": "display_data"
    }
   ],
   "source": [
    "def show_image(x, y):\n",
    "    plt.imshow(x)\n",
    "    y = np.squeeze(y)\n",
    "    c = classes[y].decode(\"utf-8\")\n",
    "    print (\"y = \" + str(y) + \", it's a '\" + c +  \"' picture.\")\n",
    "\n",
    "index = 4\n",
    "\n",
    "show_image(train_set_x_raw[index], train_set_y_raw[index])"
   ]
  },
  {
   "cell_type": "code",
   "execution_count": 4,
   "metadata": {},
   "outputs": [
    {
     "name": "stdout",
     "output_type": "stream",
     "text": [
      "train_set_x_flatten shape: (12288, 209)\n",
      "train_set_y shape: (1, 209)\n",
      "test_set_x_flatten shape: (12288, 50)\n",
      "test_set_y shape: (1, 50)\n"
     ]
    }
   ],
   "source": [
    "# reshape, normalize\n",
    "train_set_x = train_set_x_raw.reshape(train_set_x_raw.shape[0], -1).T / 255.\n",
    "train_set_y = train_set_y_raw.reshape(1, -1)\n",
    "\n",
    "test_set_x = test_set_x_raw.reshape(test_set_x_raw.shape[0], -1).T / 255.\n",
    "test_set_y = test_set_y_raw.reshape(1, -1)\n",
    "\n",
    "print (\"train_set_x_flatten shape: \" + str(train_set_x.shape))\n",
    "print (\"train_set_y shape: \" + str(train_set_y.shape))\n",
    "print (\"test_set_x_flatten shape: \" + str(test_set_x.shape))\n",
    "print (\"test_set_y shape: \" + str(test_set_y.shape))"
   ]
  },
  {
   "cell_type": "markdown",
   "metadata": {},
   "source": [
    "## 2 准备模型\n",
    "\n",
    "<img src=\"images/LogReg_kiank.png\" style=\"width:650px;height:400px;\">\n",
    "\n",
    "**Mathematical expression of the algorithm**:\n",
    "\n",
    "For one example $x^{(i)}$:\n",
    "$$z^{(i)} = w^T x^{(i)} + b \\tag{1}$$\n",
    "$$\\hat{y}^{(i)} = a^{(i)} = sigmoid(z^{(i)})\\tag{2}$$ \n",
    "$$ \\mathcal{L}(a^{(i)}, y^{(i)}) =  - y^{(i)}  \\log(a^{(i)}) - (1-y^{(i)} )  \\log(1-a^{(i)})\\tag{3}$$\n",
    "\n",
    "The cost is then computed by summing over all training examples:\n",
    "$$ J = \\frac{1}{m} \\sum_{i=1}^m \\mathcal{L}(a^{(i)}, y^{(i)})\\tag{6}$$\n"
   ]
  },
  {
   "cell_type": "code",
   "execution_count": 8,
   "metadata": {
    "collapsed": true
   },
   "outputs": [],
   "source": [
    "def sigmoid(z):\n",
    "    return 1.0 / (1.0 + np.exp(-z))\n",
    "\n",
    "class SimpleNN():\n",
    "    def __init__(self):\n",
    "        self.initialize_parameters(1)\n",
    "    \n",
    "    def initialize_parameters(self, n_0):\n",
    "        self.n_0 = n_0\n",
    "        self.w = np.zeros((n_0, 1))\n",
    "        self.b = np.zeros((1, 1))\n",
    "        \n",
    "    def propagate(self, X, Y):\n",
    "        m = X.shape[1]\n",
    "        w = self.w\n",
    "        b = self.b\n",
    "        A = sigmoid(np.dot(w.T, X) + b)   # A(1, m)\n",
    "        cost = -(np.dot(np.log(A), Y.T) + np.dot(np.log(1 - A), 1 - Y.T)) / m\n",
    "        \n",
    "        dZ = A - Y\n",
    "        dw = np.dot(X, dZ.T) / m\n",
    "        db = np.sum(A - Y) / m \n",
    "        \n",
    "        cost = np.squeeze(cost)\n",
    "        grads = {\"dw\": dw,\n",
    "                 \"db\": db}\n",
    "        return grads, cost\n",
    "    \n",
    "    def fit(self, X, Y, num_iterations=2000, learning_rate=0.5, print_cost=False):\n",
    "        self.initialize_parameters(X.shape[0])\n",
    "        costs = []\n",
    "        for i in range(num_iterations):\n",
    "            grads, cost = self.propagate(X, Y)\n",
    "            \n",
    "            dw = grads[\"dw\"]\n",
    "            db = grads[\"db\"]\n",
    "\n",
    "            self.w -= learning_rate * dw\n",
    "            self.b -= learning_rate * db\n",
    "            \n",
    "            if i % 100 == 0:\n",
    "                costs.append(cost)\n",
    "\n",
    "            # Print the cost every 100 training examples\n",
    "            if print_cost and i % 100 == 0:\n",
    "                print (\"Cost after iteration %i: %f\" %(i, cost))\n",
    "                \n",
    "        return costs\n",
    "    \n",
    "    def predict(self, X):\n",
    "        m = X.shape[1]\n",
    "        prediction = np.zeros((1, m))\n",
    "        \n",
    "        A = sigmoid(np.dot(self.w.T, X) + self.b) \n",
    "        prediction = (A > 0.5).astype(int)\n",
    "        \n",
    "        return prediction\n",
    "    \n",
    "    def score(self, X, Y):\n",
    "        prediction = self.predict(X)\n",
    "        return 1.0 * np.sum(prediction == Y) / prediction.shape[1]"
   ]
  },
  {
   "attachments": {},
   "cell_type": "markdown",
   "metadata": {},
   "source": [
    "\n",
    "bugfix： 在predict里面  `A = sigmoid(np.dot(self.w.T, X) + self.b) ` 写成 `A = sigmoid(np.dot(self.w.T, X) + b)` ，用成全局的了，还不知道，调了好长时间 "
   ]
  },
  {
   "cell_type": "code",
   "execution_count": 13,
   "metadata": {},
   "outputs": [
    {
     "name": "stdout",
     "output_type": "stream",
     "text": [
      "Image\t SimpleNN\t classes\t costs\t frame\t h5py\t i\t index\t learning_rate\t \n",
      "learning_rates\t legend\t model\t models\t ndimage\t np\t plt\t prediction\t scipy\t \n",
      "show_image\t sigmoid\t snn\t test_dataset\t test_set_x\t test_set_x_raw\t test_set_y\t test_set_y_raw\t train_dataset\t \n",
      "train_set_x\t train_set_x_raw\t train_set_y\t train_set_y_raw\t \n"
     ]
    }
   ],
   "source": [
    "who"
   ]
  },
  {
   "cell_type": "markdown",
   "metadata": {},
   "source": [
    "## 3 训练模型"
   ]
  },
  {
   "cell_type": "code",
   "execution_count": 9,
   "metadata": {
    "scrolled": true
   },
   "outputs": [
    {
     "name": "stdout",
     "output_type": "stream",
     "text": [
      "Cost after iteration 0: 0.693147\n",
      "Cost after iteration 100: 0.584508\n",
      "Cost after iteration 200: 0.466949\n",
      "Cost after iteration 300: 0.376007\n",
      "Cost after iteration 400: 0.331463\n",
      "Cost after iteration 500: 0.303273\n",
      "Cost after iteration 600: 0.279880\n",
      "Cost after iteration 700: 0.260042\n",
      "Cost after iteration 800: 0.242941\n",
      "Cost after iteration 900: 0.228004\n",
      "Cost after iteration 1000: 0.214820\n",
      "Cost after iteration 1100: 0.203078\n",
      "Cost after iteration 1200: 0.192544\n",
      "Cost after iteration 1300: 0.183033\n",
      "Cost after iteration 1400: 0.174399\n",
      "Cost after iteration 1500: 0.166521\n",
      "Cost after iteration 1600: 0.159305\n",
      "Cost after iteration 1700: 0.152667\n",
      "Cost after iteration 1800: 0.146542\n",
      "Cost after iteration 1900: 0.140872\n",
      "train accuracy: 99.04306220095694 %\n",
      "test accuracy: 70.0 %\n"
     ]
    }
   ],
   "source": [
    "snn = SimpleNN()\n",
    "\n",
    "learning_rate = 0.005\n",
    "costs = snn.fit(train_set_x, train_set_y, learning_rate=learning_rate, print_cost=True)\n",
    "\n",
    "# Print train/test Errors\n",
    "print(\"train accuracy: {} %\".format(100 * snn.score(train_set_x, train_set_y)))\n",
    "print(\"test accuracy: {} %\".format(100 * snn.score(test_set_x, test_set_y)))"
   ]
  },
  {
   "cell_type": "markdown",
   "metadata": {},
   "source": [
    "**Expected Output**: \n",
    "\n",
    "<table style=\"width:40%\"> \n",
    "\n",
    "    <tr>\n",
    "        <td> **Cost after iteration 0 **  </td> \n",
    "        <td> 0.693147 </td>\n",
    "    </tr>\n",
    "      <tr>\n",
    "        <td> <center> $\\vdots$ </center> </td> \n",
    "        <td> <center> $\\vdots$ </center> </td> \n",
    "    </tr>  \n",
    "    <tr>\n",
    "        <td> **Train Accuracy**  </td> \n",
    "        <td> 99.04306220095694 % </td>\n",
    "    </tr>\n",
    "\n",
    "    <tr>\n",
    "        <td>**Test Accuracy** </td> \n",
    "        <td> 70.0 % </td>\n",
    "    </tr>\n",
    "</table> \n",
    "\n",
    "\n"
   ]
  },
  {
   "cell_type": "code",
   "execution_count": 10,
   "metadata": {
    "scrolled": true
   },
   "outputs": [
    {
     "name": "stdout",
     "output_type": "stream",
     "text": [
      "y = 1, it's a 'cat' picture.\n"
     ]
    },
    {
     "data": {
      "image/png": "[encoded data removed]",
      "text/plain": [
       "<matplotlib.figure.Figure at 0x115f2e5c0>"
      ]
     },
     "metadata": {},
     "output_type": "display_data"
    }
   ],
   "source": [
    "# Example of a picture that was wrongly classified.\n",
    "index = 1\n",
    "prediction = snn.predict(test_set_x)\n",
    "\n",
    "show_image(test_set_x[:, index].reshape(64, 64, 3),\n",
    "           prediction[0, index])"
   ]
  },
  {
   "cell_type": "markdown",
   "metadata": {},
   "source": [
    "## 4 学习曲线， 调参"
   ]
  },
  {
   "cell_type": "code",
   "execution_count": 11,
   "metadata": {},
   "outputs": [
    {
     "data": {
      "image/png": "[encoded data removed]",
      "text/plain": [
       "<matplotlib.figure.Figure at 0x115f2e860>"
      ]
     },
     "metadata": {},
     "output_type": "display_data"
    }
   ],
   "source": [
    "# Plot learning curve (with costs)\n",
    "costs = np.squeeze(costs)\n",
    "plt.plot(costs)\n",
    "plt.ylabel('cost')\n",
    "plt.xlabel('iterations (per hundreds)')\n",
    "plt.title(\"Learning rate =\" + str(learning_rate))\n",
    "plt.show()"
   ]
  },
  {
   "cell_type": "code",
   "execution_count": 12,
   "metadata": {},
   "outputs": [
    {
     "name": "stdout",
     "output_type": "stream",
     "text": [
      "learning rate is: 0.01\n",
      "train accuracy: 99.52153110047847 %\n",
      "test accuracy: 68.0 %\n",
      "\n",
      "-------------------------------------------------------\n",
      "\n",
      "learning rate is: 0.001\n",
      "train accuracy: 88.99521531100478 %\n",
      "test accuracy: 64.0 %\n",
      "\n",
      "-------------------------------------------------------\n",
      "\n",
      "learning rate is: 0.0001\n",
      "train accuracy: 68.42105263157895 %\n",
      "test accuracy: 36.0 %\n",
      "\n",
      "-------------------------------------------------------\n",
      "\n"
     ]
    },
    {
     "data": {
      "image/png": "[encoded data removed]",
      "text/plain": [
       "<matplotlib.figure.Figure at 0x117e37780>"
      ]
     },
     "metadata": {},
     "output_type": "display_data"
    }
   ],
   "source": [
    "learning_rates = [0.01, 0.001, 0.0001]\n",
    "models = {}\n",
    "for i in learning_rates:\n",
    "    print (\"learning rate is: \" + str(i))\n",
    "    model = SimpleNN()\n",
    "    costs = model.fit(train_set_x, train_set_y, num_iterations = 1500, learning_rate = i, print_cost = False)\n",
    "    models[str(i)] = costs\n",
    "    print(\"train accuracy: {} %\".format(100 * model.score(train_set_x, train_set_y)))\n",
    "    print(\"test accuracy: {} %\".format(100 * model.score(test_set_x, test_set_y)))\n",
    "    print ('\\n' + \"-------------------------------------------------------\" + '\\n')\n",
    "\n",
    "for i in learning_rates:\n",
    "    costs = models[str(i)]\n",
    "    plt.plot(np.squeeze(costs), label= str(i))\n",
    "\n",
    "plt.ylabel('cost')\n",
    "plt.xlabel('iterations')\n",
    "\n",
    "legend = plt.legend(loc='upper center', shadow=True)\n",
    "frame = legend.get_frame()\n",
    "frame.set_facecolor('0.90')\n",
    "plt.show()"
   ]
  },
  {
   "cell_type": "code",
   "execution_count": null,
   "metadata": {
    "scrolled": false
   },
   "outputs": [],
   "source": [
    "my_image = \"images/my_image2.jpg\"   # change this to the name of your image file \n",
    "num_px = 64\n",
    "image = np.array(ndimage.imread(my_image, flatten=False))\n",
    "my_image = scipy.misc.imresize(image, size=(num_px,num_px)).reshape((1, num_px*num_px*3)).T\n",
    "my_predicted_image = snn.predict(my_image)\n",
    "\n",
    "show_image(image, my_predicted_image)"
   ]
  },
  {
   "cell_type": "code",
   "execution_count": null,
   "metadata": {
    "collapsed": true
   },
   "outputs": [],
   "source": []
  }
 ],
 "metadata": {
  "coursera": {
   "course_slug": "neural-networks-deep-learning",
   "graded_item_id": "XaIWT",
   "launcher_item_id": "zAgPl"
  },
  "kernelspec": {
   "display_name": "Python 3",
   "language": "python",
   "name": "python3"
  },
  "language_info": {
   "codemirror_mode": {
    "name": "ipython",
    "version": 3
   },
   "file_extension": ".py",
   "mimetype": "text/x-python",
   "name": "python",
   "nbconvert_exporter": "python",
   "pygments_lexer": "ipython3",
   "version": "3.6.2"
  },
  "varInspector": {
   "cols": {
    "lenName": 16,
    "lenType": 16,
    "lenVar": 40
   },
   "kernels_config": {
    "python": {
     "delete_cmd_postfix": "",
     "delete_cmd_prefix": "del ",
     "library": "var_list.py",
     "varRefreshCmd": "print(var_dic_list())"
    },
    "r": {
     "delete_cmd_postfix": ") ",
     "delete_cmd_prefix": "rm(",
     "library": "var_list.r",
     "varRefreshCmd": "cat(var_dic_list()) "
    }
   },
   "types_to_exclude": [
    "module",
    "function",
    "builtin_function_or_method",
    "instance",
    "_Feature"
   ],
   "window_display": false
  }
 },
 "nbformat": 4,
 "nbformat_minor": 2
}
